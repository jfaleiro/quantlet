{
 "metadata": {
  "name": "",
  "signature": "sha256:c1241d186df863f593993ba12602ed2f7492269b7d2f818826a15c0dacefe46b"
 },
 "nbformat": 3,
 "nbformat_minor": 0,
 "worksheets": [
  {
   "cells": [
    {
     "cell_type": "heading",
     "level": 1,
     "metadata": {},
     "source": [
      "QuantLET example: Infinite Spreadsheets"
     ]
    },
    {
     "cell_type": "markdown",
     "metadata": {},
     "source": [
      "http://quantlet.net\n",
      "\n",
      "This example shows the use of QuantLET reactives for on-demand realtime computations. Reactives can be connected to streams to consume or generate signals.\n",
      "\n",
      "This example shows the calculation of portfolio values based on changes of prices or quantities of assets, applied to stocks. \n",
      "\n",
      "This is a very simple and unrealistic example of quantlet, an on-going research work. \n",
      "\n",
      "(c) 2014 Jorge M. Faleiro Jr"
     ]
    },
    {
     "cell_type": "heading",
     "level": 2,
     "metadata": {},
     "source": [
      "Initialization"
     ]
    },
    {
     "cell_type": "markdown",
     "metadata": {},
     "source": [
      "First things first, import what we will need from QuantLET and set configuration of underlying libraries"
     ]
    },
    {
     "cell_type": "code",
     "collapsed": false,
     "input": [
      "from quantlet.reactive import R, describe, sum_all\n",
      "from quantlet import QLet, figsize"
     ],
     "language": "python",
     "metadata": {},
     "outputs": [],
     "prompt_number": 16
    },
    {
     "cell_type": "code",
     "collapsed": false,
     "input": [
      "from __future__ import print_function\n",
      "%pylab inline"
     ],
     "language": "python",
     "metadata": {},
     "outputs": [
      {
       "output_type": "stream",
       "stream": "stdout",
       "text": [
        "Populating the interactive namespace from numpy and matplotlib\n"
       ]
      },
      {
       "output_type": "stream",
       "stream": "stderr",
       "text": [
        "WARNING: pylab import has clobbered these variables: ['figsize']\n",
        "`%matplotlib` prevents importing * from pylab and numpy\n"
       ]
      }
     ],
     "prompt_number": 17
    },
    {
     "cell_type": "heading",
     "level": 2,
     "metadata": {},
     "source": [
      "Simple Reactive Model"
     ]
    },
    {
     "cell_type": "markdown",
     "metadata": {},
     "source": [
      "Let's define the reactive model: first the primitives, STOCKS and PRICE..."
     ]
    },
    {
     "cell_type": "code",
     "collapsed": false,
     "input": [
      "STOCKS = R(0,'STOCKS')\n",
      "PRICE = R(0.0, 'PRICE')"
     ],
     "language": "python",
     "metadata": {},
     "outputs": [],
     "prompt_number": 18
    },
    {
     "cell_type": "markdown",
     "metadata": {},
     "source": [
      "... and the definition of a reactive POSITION, given by STOCKS*PRICE"
     ]
    },
    {
     "cell_type": "code",
     "collapsed": false,
     "input": [
      "POSITION = STOCKS * PRICE"
     ],
     "language": "python",
     "metadata": {},
     "outputs": [],
     "prompt_number": 19
    },
    {
     "cell_type": "markdown",
     "metadata": {},
     "source": [
      "That's it, done. How does the reactive model we just created look like?"
     ]
    },
    {
     "cell_type": "code",
     "collapsed": false,
     "input": [
      "describe(POSITION)"
     ],
     "language": "python",
     "metadata": {},
     "outputs": [
      {
       "metadata": {},
       "output_type": "display_data",
       "png": "[encoded data removed]",
       "text": [
        "<matplotlib.figure.Figure at 0xaecb1ac>"
       ]
      }
     ],
     "prompt_number": 20
    },
    {
     "cell_type": "markdown",
     "metadata": {},
     "source": [
      "Pretty clear... we have a reactive POSITION (given by STOCKS*PRICE) and a dependency from POSITION to reactive primitives STOCKS and PRICE, i.e. whenever PRICE or STOCKS change, so does POSITION."
     ]
    },
    {
     "cell_type": "markdown",
     "metadata": {},
     "source": [
      "Let's play with this model and do something useful with it. \n",
      "\n",
      "Just for the sake of ilustration (and debugging), we will add a listener to reactive POSITION, printing our overall position value whenever it changes"
     ]
    },
    {
     "cell_type": "code",
     "collapsed": false,
     "input": [
      "POSITION.add_listener(lambda x,y: print('position changed: %s' % x) )"
     ],
     "language": "python",
     "metadata": {},
     "outputs": [],
     "prompt_number": 21
    },
    {
     "cell_type": "markdown",
     "metadata": {},
     "source": [
      "We can change either STOCKS or PRICE..."
     ]
    },
    {
     "cell_type": "code",
     "collapsed": false,
     "input": [
      "PRICE.val = 1.0\n",
      "STOCKS.val = 10\n",
      "PRICE.val = 0.0\n",
      "STOCKS.val = 0"
     ],
     "language": "python",
     "metadata": {},
     "outputs": [
      {
       "output_type": "stream",
       "stream": "stdout",
       "text": [
        "position changed: [STOCKS*PRICE](0.0)\n",
        "position changed: [STOCKS*PRICE](10.0)\n",
        "position changed: [STOCKS*PRICE](0.0)\n",
        "position changed: [STOCKS*PRICE](0.0)\n"
       ]
      }
     ],
     "prompt_number": 22
    },
    {
     "cell_type": "markdown",
     "metadata": {},
     "source": [
      "...our position changes, and our listener reacts to the change showing the latest position value"
     ]
    },
    {
     "cell_type": "markdown",
     "metadata": {},
     "source": [
      "Now, we will show how to bind this reactive model to a quantlet stream. \n",
      "\n",
      "We will do that by a QLet called 'tick' we create here inline: "
     ]
    },
    {
     "cell_type": "code",
     "collapsed": false,
     "input": [
      "@QLet\n",
      "def tick(iterator):\n",
      "    for i in iterator:\n",
      "        if 'q' in i:\n",
      "            STOCKS.val = i['q']\n",
      "        if 'p' in i:\n",
      "            PRICE.val = i['p']"
     ],
     "language": "python",
     "metadata": {},
     "outputs": [],
     "prompt_number": 23
    },
    {
     "cell_type": "markdown",
     "metadata": {},
     "source": [
      "We can now define a sequence of quantity and price changes (given for q quantity and p price) and stream it through 'tick' we just created, and watch the model tick through each change, we use the usual synchronous stream '>>' for that:"
     ]
    },
    {
     "cell_type": "code",
     "collapsed": false,
     "input": [
      "( \\\n",
      " dict(q=10,p=9.97), \\\n",
      " dict(p=9.12), \\\n",
      " dict(p=8.00), \\\n",
      " dict(q=9), \\\n",
      ") \\\n",
      ">> tick"
     ],
     "language": "python",
     "metadata": {},
     "outputs": [
      {
       "output_type": "stream",
       "stream": "stdout",
       "text": [
        "position changed: [STOCKS*PRICE](0.0)\n",
        "position changed: [STOCKS*PRICE](99.7)\n",
        "position changed: [STOCKS*PRICE](91.2)\n",
        "position changed: [STOCKS*PRICE](80.0)\n",
        "position changed: [STOCKS*PRICE](72.0)\n"
       ]
      }
     ],
     "prompt_number": 24
    },
    {
     "cell_type": "markdown",
     "metadata": {},
     "source": [
      "That's it for a simple model."
     ]
    },
    {
     "cell_type": "heading",
     "level": 2,
     "metadata": {},
     "source": [
      "A More Elaborated Reactive Model"
     ]
    },
    {
     "cell_type": "markdown",
     "metadata": {},
     "source": [
      "Now, a bit more sophisticated example showing a model of objects Position and Portfolio.\n",
      "\n",
      "In this model a Portfolio has a number of Positions associated to it, as well as a reactive PORTFOLIO, guaranteed to always hold the sum of all VALUE reactives across all Positions \n",
      "\n",
      "Each Position has a symbol (a string), a quantity, a price (reactive primitives QUANTITY and PRICE) and a value (reactive given by QUANTITY * PRICE)"
     ]
    },
    {
     "cell_type": "code",
     "collapsed": false,
     "input": [
      "class Position:\n",
      "    def __init__(self, symbol):\n",
      "        self.QUANTITY = R(0, '%s[QUANTITY]' % symbol)\n",
      "        self.PRICE = R(0.0, '%s[PRICE]' % symbol)\n",
      "        self.VALUE = self.QUANTITY * self.PRICE\n",
      "        self.VALUE.label = symbol\n",
      "        \n",
      "class Portfolio:\n",
      "    def __init__(self, *args):\n",
      "        self.positions = dict((k.VALUE.label,k) for k in args)\n",
      "        self.PORTFOLIO = sum_all([x.VALUE for x in args])"
     ],
     "language": "python",
     "metadata": {},
     "outputs": [],
     "prompt_number": 25
    },
    {
     "cell_type": "markdown",
     "metadata": {},
     "source": [
      "Structuring a portfolio is straighforward. In this case, we create a portfolio and 3 positions of GOOG, IBM ans MS."
     ]
    },
    {
     "cell_type": "code",
     "collapsed": false,
     "input": [
      "IBM = Position('IBM')\n",
      "MS = Position('MS')\n",
      "GOOG = Position('GOOG')\n",
      "\n",
      "portfolio = Portfolio(IBM, MS, GOOG)\n",
      "portfolio.PORTFOLIO.label = 'portfolio'"
     ],
     "language": "python",
     "metadata": {},
     "outputs": [],
     "prompt_number": 26
    },
    {
     "cell_type": "markdown",
     "metadata": {},
     "source": [
      "And here's how the graph for this model looks like. Since this model has a bit more nodes, we will first increase the size of the figure to be displayed."
     ]
    },
    {
     "cell_type": "code",
     "collapsed": false,
     "input": [
      "figsize(15.0, 12.0)"
     ],
     "language": "python",
     "metadata": {},
     "outputs": [],
     "prompt_number": 27
    },
    {
     "cell_type": "code",
     "collapsed": false,
     "input": [
      "describe(portfolio.PORTFOLIO)"
     ],
     "language": "python",
     "metadata": {},
     "outputs": [
      {
       "metadata": {},
       "output_type": "display_data",
       "png": "[encoded data removed]",
       "text": [
        "<matplotlib.figure.Figure at 0xae98b4c>"
       ]
      }
     ],
     "prompt_number": 28
    },
    {
     "cell_type": "markdown",
     "metadata": {},
     "source": [
      "Same as before, let's add a listener to portfolio, for illustration and debugging purposes only..."
     ]
    },
    {
     "cell_type": "code",
     "collapsed": false,
     "input": [
      "portfolio.PORTFOLIO.add_listener(lambda x,y: print(\"portfolio changed: %s\" % x) )"
     ],
     "language": "python",
     "metadata": {},
     "outputs": [],
     "prompt_number": 29
    },
    {
     "cell_type": "markdown",
     "metadata": {},
     "source": [
      "...and define a QLet to feed data in our model..."
     ]
    },
    {
     "cell_type": "code",
     "collapsed": false,
     "input": [
      "@QLet\n",
      "def my_positions(iterator):\n",
      "    for i in iterator:\n",
      "        position = portfolio.positions[i['s']]\n",
      "        if 'q' in i:\n",
      "            position.QUANTITY.val = i['q']\n",
      "        if 'p' in i:\n",
      "            position.PRICE.val = i['p']"
     ],
     "language": "python",
     "metadata": {},
     "outputs": [],
     "prompt_number": 30
    },
    {
     "cell_type": "markdown",
     "metadata": {},
     "source": [
      "The same way as before, we can define some test data and flow through our model. Our listener will show modifications to the portfolio."
     ]
    },
    {
     "cell_type": "code",
     "collapsed": false,
     "input": [
      "test_data = ( \\\n",
      "dict(s='GOOG', q=10, p=9.97),\n",
      "dict(s='IBM', q=9, p=8.88),\n",
      "dict(s='MS', p=9.12),\n",
      "dict(s='MS', q=1, p=8.00),\n",
      "dict(s='MS', q=9) \\\n",
      ")\n",
      "\n",
      "test_data >> my_positions"
     ],
     "language": "python",
     "metadata": {},
     "outputs": [
      {
       "output_type": "stream",
       "stream": "stdout",
       "text": [
        "portfolio changed: portfolio(0.0)\n",
        "portfolio changed: portfolio(99.7)\n",
        "portfolio changed: portfolio(99.7)\n",
        "portfolio changed: portfolio(179.62)\n",
        "portfolio changed: portfolio(179.62)\n",
        "portfolio changed: portfolio(188.74)\n",
        "portfolio changed: portfolio(187.62)\n",
        "portfolio changed: portfolio(251.62)\n"
       ]
      }
     ],
     "prompt_number": 31
    },
    {
     "cell_type": "markdown",
     "metadata": {},
     "source": [
      "We can also add listeners to any reactives, for example we can add listeners for every position in the portfolio:"
     ]
    },
    {
     "cell_type": "code",
     "collapsed": false,
     "input": [
      "for position in portfolio.positions.values():\n",
      "    position.VALUE.add_listener(lambda x,y: print(\"position changed: %s\" % x))\n",
      "\n",
      "# and flow the same test data through our qlet:\n",
      "test_data >> my_positions"
     ],
     "language": "python",
     "metadata": {},
     "outputs": [
      {
       "output_type": "stream",
       "stream": "stdout",
       "text": [
        "portfolio changed: portfolio(251.62)\n",
        "position changed: GOOG(99.7)\n",
        "portfolio changed: portfolio(251.62)\n",
        "position changed: GOOG(99.7)\n",
        "portfolio changed: portfolio(251.62)\n",
        "position changed: IBM(79.92)\n",
        "portfolio changed: portfolio(251.62)\n",
        "position changed: IBM(79.92)\n",
        "portfolio changed: portfolio(261.7)\n",
        "position changed: MS(82.08)\n",
        "portfolio changed: portfolio(188.74)\n",
        "position changed: MS(9.12)\n",
        "portfolio changed: portfolio(187.62)\n",
        "position changed: MS(8.0)\n",
        "portfolio changed: portfolio(251.62)\n",
        "position changed: MS(72.0)\n"
       ]
      }
     ],
     "prompt_number": 32
    },
    {
     "cell_type": "heading",
     "level": 2,
     "metadata": {},
     "source": [
      "Additional Features"
     ]
    },
    {
     "cell_type": "markdown",
     "metadata": {},
     "source": [
      "That's it. As a final reminder, reactives can be also bound to regular, more elaborate, QuantLET streams. For example..."
     ]
    },
    {
     "cell_type": "raw",
     "metadata": {},
     "source": [
      "# fixed quantities for each position\n",
      "GOOG.QUANTITY.val = 10\n",
      "IBM.QUANTITY.val = 15\n",
      "MS.QUANTITY.val = 12\n",
      "\n",
      "# each price to follow a different random walk, where s0=price at t0; mu=drift; sigma=volatility\n",
      "random_walk(so=10.0, mu=0.1, sigma=0.25) >> GOOG.PRICE.val\n",
      "random_walk(so=1.1, mu=-0.2, sigma=0.01) >> IBM.PRICE.val\n",
      "random_walk(so=1.3, mu=-0.3, sigma=0.02) >> MS.PRICE.val\n",
      "\n",
      "portfolio.PORTFOLIO >> plot"
     ]
    },
    {
     "cell_type": "markdown",
     "metadata": {},
     "source": [
      "...will show a plot of changes of the portfolio value over time"
     ]
    }
   ],
   "metadata": {}
  }
 ]
}